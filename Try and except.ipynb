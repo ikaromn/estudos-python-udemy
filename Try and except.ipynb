{
 "cells": [
  {
   "cell_type": "markdown",
   "metadata": {},
   "source": [
    "# Errors and Exception Handling\n",
    "\n",
    "## Try Except Finally"
   ]
  },
  {
   "cell_type": "code",
   "execution_count": 1,
   "metadata": {},
   "outputs": [
    {
     "ename": "TypeError",
     "evalue": "unsupported operand type(s) for +: 'int' and 'str'",
     "output_type": "error",
     "traceback": [
      "\u001b[0;31m---------------------------------------------------------------------------\u001b[0m",
      "\u001b[0;31mTypeError\u001b[0m                                 Traceback (most recent call last)",
      "\u001b[0;32m<ipython-input-1-842879d18793>\u001b[0m in \u001b[0;36m<module>\u001b[0;34m()\u001b[0m\n\u001b[0;32m----> 1\u001b[0;31m \u001b[0;36m2\u001b[0m \u001b[0;34m+\u001b[0m \u001b[0;34m's'\u001b[0m\u001b[0;34m\u001b[0m\u001b[0m\n\u001b[0m",
      "\u001b[0;31mTypeError\u001b[0m: unsupported operand type(s) for +: 'int' and 'str'"
     ]
    }
   ],
   "source": [
    "2 + 's'"
   ]
  },
  {
   "cell_type": "code",
   "execution_count": 6,
   "metadata": {},
   "outputs": [
    {
     "name": "stdout",
     "output_type": "stream",
     "text": [
      "There was a type erro!\n",
      "Finally this was printed!\n"
     ]
    }
   ],
   "source": [
    "try:\n",
    "    2 + 's'\n",
    "except:\n",
    "    print(\"There was a type erro!\")\n",
    "finally:\n",
    "    print(\"Finally this was printed!\")"
   ]
  },
  {
   "cell_type": "code",
   "execution_count": 11,
   "metadata": {},
   "outputs": [
    {
     "name": "stdout",
     "output_type": "stream",
     "text": [
      "Error in writting to the file!\n"
     ]
    }
   ],
   "source": [
    "try:\n",
    "    f = open('testefile','r')\n",
    "    f.write('Test write this')\n",
    "except:\n",
    "    print(\"Error in writting to the file!\")\n",
    "else:\n",
    "    print(\"File write was a success\")"
   ]
  },
  {
   "cell_type": "code",
   "execution_count": 14,
   "metadata": {},
   "outputs": [
    {
     "name": "stdout",
     "output_type": "stream",
     "text": [
      "There was an error!\n",
      "Always execute finally code blocks!\n"
     ]
    }
   ],
   "source": [
    "try:\n",
    "    f = open('testefile','r')\n",
    "    f.write('Test write this')\n",
    "except:\n",
    "    print(\"There was an error!\")\n",
    "finally:\n",
    "    print(\"Always execute finally code blocks!\")"
   ]
  },
  {
   "cell_type": "code",
   "execution_count": 19,
   "metadata": {
    "collapsed": true
   },
   "outputs": [],
   "source": [
    "def askint():\n",
    "    try:\n",
    "        val = int(input('Please enter an integer: '))\n",
    "    except:\n",
    "        print(\"Looks like you did not enter an integer!\")\n",
    "        val = int(input('Try again - Please, enter an integer: '))\n",
    "    finally:\n",
    "        print(\"Finally block executed!\")\n",
    "    print(val)"
   ]
  },
  {
   "cell_type": "code",
   "execution_count": 20,
   "metadata": {},
   "outputs": [
    {
     "name": "stdout",
     "output_type": "stream",
     "text": [
      "Please enter an integer: sfgsdfg\n",
      "Looks like you did not enter an integer!\n",
      "Try again - Please, enter an integer: 5\n",
      "Finally block executed!\n",
      "5\n"
     ]
    }
   ],
   "source": [
    "askint()"
   ]
  },
  {
   "cell_type": "code",
   "execution_count": 24,
   "metadata": {
    "collapsed": true
   },
   "outputs": [],
   "source": [
    "def askint():\n",
    "    while True:\n",
    "        try:\n",
    "            val = int(input('Please enter an integer: '))\n",
    "        except:\n",
    "            print(\"Looks like you did not enter an integer!\")\n",
    "            continue\n",
    "        else:\n",
    "            print(\"Correct, that is an integer\")\n",
    "            break\n",
    "        finally:\n",
    "            print(\"Finally block executed!\")\n",
    "        print(val)"
   ]
  },
  {
   "cell_type": "code",
   "execution_count": 25,
   "metadata": {},
   "outputs": [
    {
     "name": "stdout",
     "output_type": "stream",
     "text": [
      "Please enter an integer: e\n",
      "Looks like you did not enter an integer!\n",
      "Finally block executed!\n",
      "Please enter an integer: r\n",
      "Looks like you did not enter an integer!\n",
      "Finally block executed!\n",
      "Please enter an integer: e\n",
      "Looks like you did not enter an integer!\n",
      "Finally block executed!\n",
      "Please enter an integer: a\n",
      "Looks like you did not enter an integer!\n",
      "Finally block executed!\n",
      "Please enter an integer: d\n",
      "Looks like you did not enter an integer!\n",
      "Finally block executed!\n",
      "Please enter an integer: 5\n",
      "Correct, that is an integer\n",
      "Finally block executed!\n"
     ]
    }
   ],
   "source": [
    "askint()"
   ]
  },
  {
   "cell_type": "code",
   "execution_count": null,
   "metadata": {
    "collapsed": true
   },
   "outputs": [],
   "source": []
  }
 ],
 "metadata": {
  "kernelspec": {
   "display_name": "Python 3",
   "language": "python",
   "name": "python3"
  },
  "language_info": {
   "codemirror_mode": {
    "name": "ipython",
    "version": 3
   },
   "file_extension": ".py",
   "mimetype": "text/x-python",
   "name": "python",
   "nbconvert_exporter": "python",
   "pygments_lexer": "ipython3",
   "version": "3.5.2"
  }
 },
 "nbformat": 4,
 "nbformat_minor": 2
}
